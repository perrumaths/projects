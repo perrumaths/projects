{
 "cells": [
  {
   "cell_type": "markdown",
   "id": "79aed7a6-cf23-4a5e-95ce-5ead72ec0240",
   "metadata": {},
   "source": [
    "# Mode d’emploi\n",
    "Un notebook Jupyter est formé\n",
    "- de cellules qui contiennent du texte (comme celui que vous êtes en train de lire) au format Markdown,\n",
    "- de cellules grisées qui contiennent du code exécutable (ici en Python).\n",
    "\n",
    "Pour modifier le code d’une cellule (tout est modifiable) : cliquer ou double-cliquer dans la cellule.\n",
    "    \n",
    "Pour exécuter le code d’une cellule (Markdown ou Python) : placer le curseur dans la cellule est **Ctrl+Entrée== (ou la flèche dans le menu).\n"
   ]
  },
  {
   "cell_type": "markdown",
   "id": "977f0ce1-d0d6-427f-9dc6-15172c814154",
   "metadata": {},
   "source": [
    "# 1. Simulation du prélèvement d’un échantillon\n",
    "On simule le prélèvement d’un échantillon et on renvoie la fréquence de succès.\n",
    "\n",
    "Les paramètres sont la proportion dans la population et la taille de l’échantillon.\n"
   ]
  },
  {
   "cell_type": "code",
   "execution_count": null,
   "id": "b5bfb430-c8c2-43ac-80cf-da1c732a8317",
   "metadata": {},
   "outputs": [],
   "source": [
    "from random import random                                    # On importe la fonction random : nombre aléatoire entre 0 et 1.\n",
    "\n",
    "def FrequenceEchantillon(proportion,effectif):\n",
    "    compte = 0\n",
    "    for i in range(effectif):\n",
    "        if random() < proportion:                            # Si le nombre aléatoire est inférieur à la proportion,\n",
    "            compte += 1                                      # on ajoute 1 au compte.\n",
    "    return compte/effectif                                   # On renvoie la fréquence de succès."
   ]
  },
  {
   "cell_type": "markdown",
   "id": "3767af94-505c-4f4c-91c9-d0c6d2b90eb5",
   "metadata": {},
   "source": [
    "**Exemple** : On peut voir qu’avec un échantillon de 1000 personnes et une proportion de 51 %, la fréquence observée est souvent en-dessous de 50 % (répéter plusieurs fois **ctrl+entrée** pour voir les _fluctuations d’échantillonnage_)."
   ]
  },
  {
   "cell_type": "code",
   "execution_count": null,
   "id": "a0b604bd-b011-491c-8946-e6d4be7ce15d",
   "metadata": {},
   "outputs": [],
   "source": [
    "FrequenceEchantillon(0.51,1000)"
   ]
  },
  {
   "cell_type": "markdown",
   "id": "516e0384-c844-4051-bcf2-b875617a1540",
   "metadata": {},
   "source": [
    "# 2. Calcul d’un intervalle de confiance\n",
    "Une fois qu’on a observé une fréquence dans un échantillon, on peut déterminer un intervalle de confiance.\n",
    "\n",
    "On définit plusieurs méthode de calcul d’un intervalle de confiance.\n",
    "\n",
    "Les paramètres sont la fréquence observée, l’effectif de l’échantillon et le niveau de confiance.\n",
    "\n",
    "**Wald** : À partir du niveau, on calcule la valeur de $t$, puis on renvoie un couple représentant l’intervalle de confiance.  \n",
    "Si le niveau n’est pas prévu, on renvoie $(1,0)$ qui est le signe d’une erreur.  \n",
    "(Je n’ai pas implémenté la formule qui donne la valeur de $t$ dans le cas général parce qu’elle est compliquée)\n",
    "\n",
    "**Agresti-Coull** : Comme l’intervalle de Wald, mais en ajoutant 2 succès et 2 échecs. L’intervalle est recentré, et son amplitude diminue légèrerement."
   ]
  },
  {
   "cell_type": "code",
   "execution_count": null,
   "id": "840dcf5e-b7a2-417e-9827-63437b38ca7a",
   "metadata": {},
   "outputs": [],
   "source": [
    "from math import sqrt                 # Import de la fonction racine carrée qui n’est pas native\n",
    "\n",
    "def Wald(frequence,effectif,niveau):\n",
    "    if niveau == 90:\n",
    "        t = 1.645\n",
    "    elif niveau == 95:\n",
    "        t = 1.96\n",
    "    elif niveau == 99:\n",
    "        t = 2.576\n",
    "    else:\n",
    "        return (1,0)\n",
    "    return (frequence-t*sqrt(frequence*(1-frequence)/effectif),frequence+t*sqrt(frequence*(1-frequence)/effectif))\n",
    "\n",
    "def AgrestiCoull(frequence,effectif,niveau):\n",
    "    return Wald((effectif*frequence + 2)/(effectif + 4),effectif+4,niveau)"
   ]
  },
  {
   "cell_type": "markdown",
   "id": "96653f6c-d7b7-460e-b1a0-ce7f6d4fd369",
   "metadata": {},
   "source": [
    "**Exemple** : On calcule l’intervalle de Wald…"
   ]
  },
  {
   "cell_type": "code",
   "execution_count": null,
   "id": "5402738e-d72b-4056-819a-a1fa73acfa7b",
   "metadata": {},
   "outputs": [],
   "source": [
    "Wald(0.3,200,95)"
   ]
  },
  {
   "cell_type": "markdown",
   "id": "148c2ca8-9d50-4b10-930d-f7e54985d6e1",
   "metadata": {},
   "source": [
    "**Exemple** … ou l’intervalle de Agresti-Coull"
   ]
  },
  {
   "cell_type": "code",
   "execution_count": null,
   "id": "11eefcd4-34a7-4645-9329-0bc312f56895",
   "metadata": {},
   "outputs": [],
   "source": [
    "AgrestiCoull(0.3,200,95)"
   ]
  },
  {
   "cell_type": "markdown",
   "id": "c17a0f6a-23a1-47da-b0cf-8c7909ca488a",
   "metadata": {},
   "source": [
    "# 3. Test de recouvrement\n",
    "On crée une fonction qui\n",
    "- simule le tirage d’un échantillon,\n",
    "- calcule l’intervalle de confiance correspondant à la fréquence obtenue,\n",
    "- dit sous forme de booléen si l’intervalle de confiance recouvre la proportion.\n",
    "\n",
    "Les paramètres sont\n",
    "- la proportion à estimer dans la population,\n",
    "- la taille de l’échantillon,\n",
    "- le niveau de confiance souhaité,\n",
    "- la méthode de calcul de l’intervalle de confiance (Wald, Agresti-Coull…) : le langage Python accepte le passage d’une fonction en paramètre."
   ]
  },
  {
   "cell_type": "code",
   "execution_count": null,
   "id": "4e83f6cd-813e-4c1f-b738-e39586b608b7",
   "metadata": {},
   "outputs": [],
   "source": [
    "def Recouvrement(proportion,effectif,niveau,methode):\n",
    "    frequence = FrequenceEchantillon(proportion,effectif)    # Simulation d’un tirage d’un échantillon et renvoie de la fréquence\n",
    "    intervalle = methode(frequence,effectif,niveau)          # Calcul de l’intervalle de confiance avec la méthode souhaitée\n",
    "    return intervalle[0] <= proportion <= intervalle[1]      # Test du recouvrement et renvoi du booléen correspondant."
   ]
  },
  {
   "cell_type": "markdown",
   "id": "af8db451-53e3-4873-b75e-52726a4afab5",
   "metadata": {},
   "source": [
    "**Exemple** : Répéter plusieurs fois Ctrl+Entrée pour voir qu’il n’y a pas toujours recouvrement. Éventuellement, modifier les paramètres."
   ]
  },
  {
   "cell_type": "code",
   "execution_count": null,
   "id": "3dbf5317-855e-45a0-87f2-9763ba855fa4",
   "metadata": {},
   "outputs": [],
   "source": [
    "Recouvrement(0.3,200,90,Wald)"
   ]
  },
  {
   "cell_type": "markdown",
   "id": "b5e9ff93-df2f-43a7-8db3-d0378d50a76d",
   "metadata": {},
   "source": [
    "# 4. Fréquence de recouvrement\n",
    "On crée une fonction qui réalise un grand nombre de test de recouvrement, et renvoie la fréquence de recouvrement.\n",
    "\n",
    "Les paramètres sont le nombre de test, la proportion à estimer, la taille de l’échantillon, le niveau de confiance, et la méthode de calcul de l’intervalle de confiance."
   ]
  },
  {
   "cell_type": "code",
   "execution_count": null,
   "id": "e3a2961c-4e25-4e8a-b964-46d160a62c88",
   "metadata": {},
   "outputs": [],
   "source": [
    "def FrequenceRecouvrement(nbtest,proportion,effectif,niveau,methode):\n",
    "    compte = 0\n",
    "    for i in range(nbtest):\n",
    "        if Recouvrement(proportion,effectif,niveau,methode):\n",
    "            compte += 1\n",
    "    return compte/nbtest"
   ]
  },
  {
   "cell_type": "markdown",
   "id": "f0a86779-c28c-404c-a2f1-3e9c7d893938",
   "metadata": {},
   "source": [
    "**Exemple** : Pour une proportion à estimer de 30 %, des échantillons de taille 100, un niveau de confiance de 90%, et la méthode de Wald, quelle est la fréquence de recouvrement obtenue pour 10000 tests ?\n",
    "\n",
    "On voit que la fréquence de recouvrement est nettement inférieur à 90%…"
   ]
  },
  {
   "cell_type": "code",
   "execution_count": null,
   "id": "cba4092c-8356-49d1-b112-46c90b472241",
   "metadata": {},
   "outputs": [],
   "source": [
    "FrequenceRecouvrement(10000,0.3,100,90,Wald)"
   ]
  },
  {
   "cell_type": "markdown",
   "id": "ed878953-ffa9-4bde-af2d-c979200c0809",
   "metadata": {},
   "source": [
    "Vérifier qu’avec l’intervalle d’Agresti-Coull, la fréquence de recouvrement est meilleure.\n",
    "\n",
    "Changer éventuellement les autres paramètres."
   ]
  },
  {
   "cell_type": "markdown",
   "id": "fcea1451-d83b-4ccf-b62f-8fc07cb3a06d",
   "metadata": {},
   "source": [
    "**Exemple** On peut éventuellement changer automatiquement la proportion $p$"
   ]
  },
  {
   "cell_type": "code",
   "execution_count": null,
   "id": "3aaed926-2529-43af-8555-aa082cfe4744",
   "metadata": {},
   "outputs": [],
   "source": [
    "nbpas = 10\n",
    "for i in range(0,nbpas+1):\n",
    "    p = i/nbpas\n",
    "    print(p,FrequenceRecouvrement(100000,p,100,90,Wald))"
   ]
  },
  {
   "cell_type": "markdown",
   "id": "ad78b149-25fa-43a8-99a6-852b6f59f313",
   "metadata": {},
   "source": []
  }
 ],
 "metadata": {
  "kernelspec": {
   "display_name": "Python 3 (ipykernel)",
   "language": "python",
   "name": "python3"
  },
  "language_info": {
   "codemirror_mode": {
    "name": "ipython",
    "version": 3
   },
   "file_extension": ".py",
   "mimetype": "text/x-python",
   "name": "python",
   "nbconvert_exporter": "python",
   "pygments_lexer": "ipython3",
   "version": "3.11.7"
  }
 },
 "nbformat": 4,
 "nbformat_minor": 5
}
